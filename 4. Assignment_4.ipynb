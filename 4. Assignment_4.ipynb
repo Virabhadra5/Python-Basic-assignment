{
 "cells": [
  {
   "cell_type": "markdown",
   "id": "aea4d538",
   "metadata": {},
   "source": [
    "#Q1. What exactly is []?"
   ]
  },
  {
   "cell_type": "markdown",
   "id": "9e778781",
   "metadata": {},
   "source": [
    "**Answer Q1:**\n",
    "    \n",
    "[] indicates an empty list , [] brackets are used to define a variable as a list"
   ]
  },
  {
   "cell_type": "markdown",
   "id": "496bed79",
   "metadata": {},
   "source": [
    "#Q2. In a list of values stored in a variable called spam, how would you assign the value 'hello' as the third value? \n",
    "(Assume [2, 4, 6, 8, 10] are in spam.)"
   ]
  },
  {
   "cell_type": "code",
   "execution_count": 1,
   "id": "8572aafc",
   "metadata": {},
   "outputs": [
    {
     "data": {
      "text/plain": [
       "[2, 4, 'hello', 8, 10]"
      ]
     },
     "execution_count": 1,
     "metadata": {},
     "output_type": "execute_result"
    }
   ],
   "source": [
    "#**Answer Q2:** option 1 replace value at third place\n",
    "spam=[2,4,6,8,10]\n",
    "spam[2]=\"hello\"\n",
    "spam\n",
    "    "
   ]
  },
  {
   "cell_type": "code",
   "execution_count": 3,
   "id": "c9d14210",
   "metadata": {},
   "outputs": [
    {
     "data": {
      "text/plain": [
       "[2, 4, 'hello', 6, 8, 10]"
      ]
     },
     "execution_count": 3,
     "metadata": {},
     "output_type": "execute_result"
    }
   ],
   "source": [
    "#**Answer Q2:** option 2 insert value at third place\n",
    "spam=[2,4,6,8,10]\n",
    "spam.insert(2, \"hello\")\n",
    "spam\n",
    "    "
   ]
  },
  {
   "cell_type": "markdown",
   "id": "978f0db4",
   "metadata": {},
   "source": [
    "#Let's pretend the spam includes the list ['a', 'b', 'c', 'd'] for the next three queries."
   ]
  },
  {
   "cell_type": "markdown",
   "id": "e67d6fa9",
   "metadata": {},
   "source": [
    "#Q3. What is the value of spam[int(int('3' * 2) / 11)]?"
   ]
  },
  {
   "cell_type": "code",
   "execution_count": 9,
   "id": "173406ce",
   "metadata": {},
   "outputs": [
    {
     "name": "stdout",
     "output_type": "stream",
     "text": [
      " Value of spam[int(int('3'*2)/11)] is =  d\n"
     ]
    }
   ],
   "source": [
    "spam=[\"a\",\"b\",\"c\",\"d\"]\n",
    "\n",
    "#Answer Q3:\n",
    "print(\" Value of spam[int(int('3'*2)/11)] is = \",spam[int(int(\"3\"*2)/11)])"
   ]
  },
  {
   "cell_type": "markdown",
   "id": "0c1cee32",
   "metadata": {},
   "source": [
    "#Q4. What is the value of spam[-1]?"
   ]
  },
  {
   "cell_type": "code",
   "execution_count": 6,
   "id": "91b1dcc2",
   "metadata": {},
   "outputs": [
    {
     "name": "stdout",
     "output_type": "stream",
     "text": [
      " value of spam[-1] is =  d\n"
     ]
    }
   ],
   "source": [
    "#Answer Q4.\n",
    "print(\" value of spam[-1] is = \", spam[-1])"
   ]
  },
  {
   "cell_type": "markdown",
   "id": "6e7b0cb4",
   "metadata": {},
   "source": [
    "#Q5. What is the value of spam[:2]?"
   ]
  },
  {
   "cell_type": "code",
   "execution_count": 17,
   "id": "cc99a0ef",
   "metadata": {},
   "outputs": [
    {
     "name": "stdout",
     "output_type": "stream",
     "text": [
      " value of spam[-2] is =  ['a', 'b']\n"
     ]
    }
   ],
   "source": [
    "#Answer Q5.\n",
    "print(\" value of spam[-2] is = \", spam[:2])"
   ]
  },
  {
   "cell_type": "markdown",
   "id": "d7bf48ce",
   "metadata": {},
   "source": [
    "#Let's pretend bacon has the list [3.14, 'cat,' 11, 'cat,' True] for the next three questions.\n"
   ]
  },
  {
   "cell_type": "markdown",
   "id": "7df9ed3a",
   "metadata": {},
   "source": [
    "#Q6. What is the value of bacon.index('cat')?\n"
   ]
  },
  {
   "cell_type": "code",
   "execution_count": 14,
   "id": "171cdd78",
   "metadata": {},
   "outputs": [
    {
     "name": "stdout",
     "output_type": "stream",
     "text": [
      " value of  bacon.index(\"cat\") is =  1\n"
     ]
    }
   ],
   "source": [
    "bacon=[3.14, 'cat', 11, 'cat', True]\n",
    "#Answer Q6\n",
    "print(''' value of  bacon.index(\"cat\") is = ''', bacon.index(\"cat\"))"
   ]
  },
  {
   "cell_type": "markdown",
   "id": "e93b3085",
   "metadata": {},
   "source": [
    "#Q7. How does bacon.append(99) change the look of the list value in bacon?"
   ]
  },
  {
   "cell_type": "code",
   "execution_count": 15,
   "id": "2121df5e",
   "metadata": {},
   "outputs": [
    {
     "name": "stdout",
     "output_type": "stream",
     "text": [
      "list bacon after the append operation is =  [3.14, 'cat', 11, 'cat', True, 99]\n"
     ]
    }
   ],
   "source": [
    "#Answer Q7.\n",
    "bacon.append(99)\n",
    "\n",
    "print(\"list bacon after the append operation is = \", bacon)"
   ]
  },
  {
   "cell_type": "markdown",
   "id": "60d04850",
   "metadata": {},
   "source": [
    "#Q8. How does bacon.remove('cat') change the look of the list in bacon?"
   ]
  },
  {
   "cell_type": "code",
   "execution_count": 16,
   "id": "92b78452",
   "metadata": {},
   "outputs": [
    {
     "name": "stdout",
     "output_type": "stream",
     "text": [
      "list bacon after the remove 'cat' operation is =  [3.14, 11, 'cat', True, 99]\n"
     ]
    }
   ],
   "source": [
    "#Answer Q8\n",
    "\n",
    "bacon.remove(\"cat\")\n",
    "\n",
    "print(\"list bacon after the remove 'cat' operation is = \", bacon)"
   ]
  },
  {
   "cell_type": "markdown",
   "id": "ba8564f8",
   "metadata": {},
   "source": [
    "#Q9. What are the list concatenation and list replication operators?"
   ]
  },
  {
   "cell_type": "markdown",
   "id": "76f0ac5c",
   "metadata": {},
   "source": [
    "**Answer Q9:**\n",
    "    \n",
    "    list concatenation operator is + and replication operator is *"
   ]
  },
  {
   "cell_type": "code",
   "execution_count": 20,
   "id": "c73ce779",
   "metadata": {},
   "outputs": [
    {
     "name": "stdout",
     "output_type": "stream",
     "text": [
      "concatenation of two lists l1 and l2 is =  [2, 3, 4, 6, 'hello world', 'veer', 9020.24, 10]\n",
      "replication of list l2 is = ['hello world', 'veer', 9020.24, 10, 'hello world', 'veer', 9020.24, 10]\n"
     ]
    }
   ],
   "source": [
    "#Answer Q9: example for list concatenation and replication\n",
    "l1=[2,3,4,6]\n",
    "l2=[\"hello world\", \"veer\", 9020.24, 10]\n",
    "print(\"concatenation of two lists l1 and l2 is = \", l1+l2) # list concatenation operation\n",
    "print(\"replication of list l2 is =\", l2*2) # list replication operation"
   ]
  },
  {
   "cell_type": "markdown",
   "id": "fab6b9e5",
   "metadata": {},
   "source": [
    "#Q10. What is difference between the list methods append() and insert()?"
   ]
  },
  {
   "cell_type": "markdown",
   "id": "f0123472",
   "metadata": {},
   "source": [
    "**Answer Q10:**\n",
    "    \n",
    "**append():** append() method in list always adds the data to the end of the list\n",
    "    \n",
    "**insert():** insert() method in list is used to insert the data into the list at any position as desired"
   ]
  },
  {
   "cell_type": "markdown",
   "id": "9d756757",
   "metadata": {},
   "source": [
    "#Q11. What are the two methods for removing items from a list?"
   ]
  },
  {
   "cell_type": "markdown",
   "id": "0c057bea",
   "metadata": {},
   "source": [
    "**Answer Q11:**\n",
    "    \n",
    "    two methods are 1. remove() and 2. pop()"
   ]
  },
  {
   "cell_type": "markdown",
   "id": "d18241db",
   "metadata": {},
   "source": [
    "#Q12. Describe how list values and string values are identical."
   ]
  },
  {
   "cell_type": "markdown",
   "id": "f3118979",
   "metadata": {},
   "source": [
    "**Answer Q12:**\n",
    "\n",
    "    list and string values are identical because both are iterable objects, they have indexes, slicing can be done on both\n",
    "    , in and not in operators can be used on both"
   ]
  },
  {
   "cell_type": "markdown",
   "id": "03d66353",
   "metadata": {},
   "source": [
    "#Q13. What's the difference between tuples and lists?"
   ]
  },
  {
   "cell_type": "markdown",
   "id": "051d1760",
   "metadata": {},
   "source": [
    "**Answer Q13:**\n",
    "    \n",
    "    lists are mutable objects whereas tuples are immutable objects"
   ]
  },
  {
   "cell_type": "markdown",
   "id": "726e4489",
   "metadata": {},
   "source": [
    "#Q14. How do you type a tuple value that only contains the integer 42?"
   ]
  },
  {
   "cell_type": "code",
   "execution_count": 49,
   "id": "14641e8e",
   "metadata": {},
   "outputs": [
    {
     "name": "stdout",
     "output_type": "stream",
     "text": [
      "<class 'tuple'> (42,)\n"
     ]
    }
   ],
   "source": [
    "#Answer Q14:\n",
    "t=(42,)\n",
    "print(type(t), t)"
   ]
  },
  {
   "cell_type": "markdown",
   "id": "cef0531e",
   "metadata": {},
   "source": [
    "#Q15. How do you get a list value's tuple form? How do you get a tuple value's list form?"
   ]
  },
  {
   "cell_type": "markdown",
   "id": "148ad6cd",
   "metadata": {},
   "source": [
    "**Answer Q15:**\n",
    "\n",
    "    We can type cast the list values into tuple type to get the list values in tuple form\n",
    "    and vice versa for tuple values in list form\n"
   ]
  },
  {
   "cell_type": "code",
   "execution_count": 56,
   "id": "ac7fec30",
   "metadata": {},
   "outputs": [
    {
     "name": "stdout",
     "output_type": "stream",
     "text": [
      "(1, 4, 6, 'vjej', 'oiu')\n",
      "[1, 3, 5, 8, 'veer']\n"
     ]
    }
   ],
   "source": [
    "#Answer Q15 with example\n",
    "lst=[1,4,6,\"vjej\",\"oiu\"]\n",
    "tpl=(1,3,5,8,\"veer\")\n",
    "print(tuple(lst))\n",
    "print(list(tpl))"
   ]
  },
  {
   "cell_type": "markdown",
   "id": "23f634bc",
   "metadata": {},
   "source": [
    "#Q16. Variables that \"contain\" list values are not necessarily lists themselves. Instead, what do they contain?"
   ]
  },
  {
   "cell_type": "markdown",
   "id": "df263f64",
   "metadata": {},
   "source": [
    "**Answer Q16**\n",
    "\n",
    "    they contain references to the list values"
   ]
  },
  {
   "cell_type": "markdown",
   "id": "acdb5373",
   "metadata": {},
   "source": [
    "#Q17. How do you distinguish between copy.copy() and copy.deepcopy()?"
   ]
  },
  {
   "cell_type": "markdown",
   "id": "668d3d32",
   "metadata": {},
   "source": [
    "**Anser Q17:** \n",
    "\n",
    "    The `copy.copy()` function will do a shallow copy of a list, while the `copy.deepcopy()` function will do a deep copy       of a list. That is, only `copy.deepcopy()` will duplicate any lists inside the list."
   ]
  }
 ],
 "metadata": {
  "kernelspec": {
   "display_name": "Python 3 (ipykernel)",
   "language": "python",
   "name": "python3"
  },
  "language_info": {
   "codemirror_mode": {
    "name": "ipython",
    "version": 3
   },
   "file_extension": ".py",
   "mimetype": "text/x-python",
   "name": "python",
   "nbconvert_exporter": "python",
   "pygments_lexer": "ipython3",
   "version": "3.9.7"
  }
 },
 "nbformat": 4,
 "nbformat_minor": 5
}
