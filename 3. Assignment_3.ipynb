{
 "cells": [
  {
   "cell_type": "markdown",
   "id": "f06530d1",
   "metadata": {},
   "source": [
    "#Q1. Why are functions advantageous to have in your programs?"
   ]
  },
  {
   "cell_type": "markdown",
   "id": "75f0c674",
   "metadata": {},
   "source": [
    "**#Answer Q1:**\n",
    "\n",
    "functions are advantageous because can be called multiple times or reuseability when same piece of code is required and same results are desired"
   ]
  },
  {
   "cell_type": "markdown",
   "id": "ef7dce93",
   "metadata": {},
   "source": [
    "#Q2. When does the code in a function run: when it's specified or when it's called?"
   ]
  },
  {
   "cell_type": "markdown",
   "id": "e1fb8238",
   "metadata": {},
   "source": [
    "**#Answer Q2.** the code in function will run when its called"
   ]
  },
  {
   "cell_type": "markdown",
   "id": "c584a92d",
   "metadata": {},
   "source": [
    "#Q3. What statement creates a function?"
   ]
  },
  {
   "cell_type": "markdown",
   "id": "c08172fa",
   "metadata": {},
   "source": [
    "**#Answer Q3.** \"def\" key word is used to create a function\n",
    "\n",
    "**syntax .**\n",
    "\n",
    "def  fun_name(input):\n",
    "\n",
    "             code to run "
   ]
  },
  {
   "cell_type": "markdown",
   "id": "e3b90448",
   "metadata": {},
   "source": [
    "#Q4. What is the difference between a function and a function call?"
   ]
  },
  {
   "cell_type": "markdown",
   "id": "1aaa2650",
   "metadata": {},
   "source": [
    "**#AnswerQ4.**\n",
    "\n",
    "**function:** function is the piece of code defined as function to create required output\n",
    "\n",
    "**function call:** function call means is to call the function already created to execute and achieve the ouput "
   ]
  },
  {
   "cell_type": "markdown",
   "id": "a083b4fe",
   "metadata": {},
   "source": [
    "#Q5. How many global scopes are there in a Python program? How many local scopes?"
   ]
  },
  {
   "cell_type": "markdown",
   "id": "f7e0c4e8",
   "metadata": {},
   "source": [
    "**Answer Q5.**\n",
    "\n",
    "**global scope : ** There is only one global scope available per programme\n",
    "\n",
    "**Local scope : ** There can be any number of local scopes in a program inside a different code block or functions or loops etc particulary used for that block of code or function or loop"
   ]
  },
  {
   "cell_type": "markdown",
   "id": "2413754e",
   "metadata": {},
   "source": [
    "#Q6. What happens to variables in a local scope when the function call returns?"
   ]
  },
  {
   "cell_type": "markdown",
   "id": "638dd727",
   "metadata": {},
   "source": [
    "**Answer Q6:**\n",
    "    local scope is terminated or removed after the function call returns"
   ]
  },
  {
   "cell_type": "markdown",
   "id": "9f44d707",
   "metadata": {},
   "source": [
    "#Q7. What is the concept of a return value? Is it possible to have a return value in an expression?"
   ]
  },
  {
   "cell_type": "markdown",
   "id": "ef3f26a0",
   "metadata": {},
   "source": [
    "**Answer Q6: **\n",
    "    \n",
    "    The concept of return values is whenever a function is created to execute certain code as per the requirement\n",
    "    and the result of the code inside a function can be stored in any variable and return of the variable or certain           operations mentioned in the return statement are returned in the output\n",
    "\n",
    "    return keyword can be used only inside a function "
   ]
  },
  {
   "cell_type": "markdown",
   "id": "ff6f78aa",
   "metadata": {},
   "source": [
    "#Q8. If a function does not have a return statement, what is the return value of a call to that function?"
   ]
  },
  {
   "cell_type": "markdown",
   "id": "38a4460b",
   "metadata": {},
   "source": [
    "**Answee Q8:**\n",
    "\n",
    "    If a function does not have return statement, the return value will not have any value or None\n",
    "    "
   ]
  },
  {
   "cell_type": "markdown",
   "id": "f07a2828",
   "metadata": {},
   "source": [
    "#Q9. How do you make a function variable refer to the global variable?        "
   ]
  },
  {
   "cell_type": "markdown",
   "id": "07cf9224",
   "metadata": {},
   "source": [
    "**Answer Q9:**\n",
    "    \n",
    "    The variable has to be defined using a keyword global. for ex global x=10. creates x as a global variable"
   ]
  },
  {
   "cell_type": "markdown",
   "id": "33f7990f",
   "metadata": {},
   "source": [
    "#Q10. What is the data type of None?"
   ]
  },
  {
   "cell_type": "markdown",
   "id": "c6db48e4",
   "metadata": {},
   "source": [
    "**Answer Q10:**\n",
    "    \n",
    "    Nonetype"
   ]
  },
  {
   "cell_type": "markdown",
   "id": "d8ff45e9",
   "metadata": {},
   "source": [
    "#Q11. What does the sentence import areallyourpetsnamederic do?"
   ]
  },
  {
   "cell_type": "markdown",
   "id": "ef3f1525",
   "metadata": {},
   "source": [
    "**Answer Q11:**\n",
    "    \n",
    "    the sentence will import the module areallyourpetsnamederic in the present programme"
   ]
  },
  {
   "cell_type": "markdown",
   "id": "2b3fb232",
   "metadata": {},
   "source": [
    "#Q12. If you had a bacon() feature in a spam module, what would you call it after importing spam?"
   ]
  },
  {
   "cell_type": "markdown",
   "id": "b763ab14",
   "metadata": {},
   "source": [
    "**Answer Q12:**\n",
    "    \n",
    "    the function can be called as spam.bacon()"
   ]
  },
  {
   "cell_type": "markdown",
   "id": "794c6bc3",
   "metadata": {},
   "source": [
    "#Q13. What can you do to save a programme from crashing if it encounters an error?"
   ]
  },
  {
   "cell_type": "markdown",
   "id": "e4560638",
   "metadata": {},
   "source": [
    "**Answer Q13:**\n",
    "    \n",
    "    we can handle the error using exception handling procedure by using try and except blocks"
   ]
  },
  {
   "cell_type": "markdown",
   "id": "28865eba",
   "metadata": {},
   "source": [
    "#Q14. What is the purpose of the try clause? What is the purpose of the except clause?Q"
   ]
  },
  {
   "cell_type": "markdown",
   "id": "c9574612",
   "metadata": {},
   "source": [
    "**Answer Q14:**\n",
    "    \n",
    "**try:** this block enables us to try the particular piece of supsected code(the code which may cause error under certain condition)\n",
    "\n",
    "**except:** this block is used to handle the error occured after executing the code in the try block "
   ]
  },
  {
   "cell_type": "code",
   "execution_count": null,
   "id": "0d6c6130",
   "metadata": {},
   "outputs": [],
   "source": []
  }
 ],
 "metadata": {
  "kernelspec": {
   "display_name": "Python 3 (ipykernel)",
   "language": "python",
   "name": "python3"
  },
  "language_info": {
   "codemirror_mode": {
    "name": "ipython",
    "version": 3
   },
   "file_extension": ".py",
   "mimetype": "text/x-python",
   "name": "python",
   "nbconvert_exporter": "python",
   "pygments_lexer": "ipython3",
   "version": "3.9.7"
  }
 },
 "nbformat": 4,
 "nbformat_minor": 5
}
