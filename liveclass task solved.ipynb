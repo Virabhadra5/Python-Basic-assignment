{
 "cells": [
  {
   "cell_type": "markdown",
   "id": "424d6519",
   "metadata": {},
   "source": [
    "# CLASS 15TH MAY 2022 TASK "
   ]
  },
  {
   "cell_type": "code",
   "execution_count": 1,
   "id": "c0c6351a",
   "metadata": {},
   "outputs": [],
   "source": []
  },
  {
   "cell_type": "markdown",
   "id": "c6673781",
   "metadata": {},
   "source": [
    "#Q1. Try to extract data from index one to index 300 with a jump of 3 "
   ]
  },
  {
   "cell_type": "code",
   "execution_count": 44,
   "id": "a2782383",
   "metadata": {
    "scrolled": true
   },
   "outputs": [
    {
     "data": {
      "text/plain": [
       "'h   r tnrrmglsnimeNGyosi dtfco'"
      ]
     },
     "execution_count": 44,
     "metadata": {},
     "output_type": "execute_result"
    }
   ],
   "source": [
    "#Answer Q1: \n",
    "s = \"this is My First Python programming class and i am learNING python string and its function\"\n",
    "s[1:300:3]"
   ]
  },
  {
   "cell_type": "code",
   "execution_count": null,
   "id": "20047a32",
   "metadata": {},
   "outputs": [],
   "source": []
  },
  {
   "cell_type": "markdown",
   "id": "3993b31f",
   "metadata": {},
   "source": [
    "#Q2. 2. Try to reverse a string without using reverse function \n"
   ]
  },
  {
   "cell_type": "code",
   "execution_count": 7,
   "id": "1b9ba2ed",
   "metadata": {},
   "outputs": [
    {
     "data": {
      "text/plain": [
       "'noitcnuf sti dna gnirts nohtyp GNINrael ma i dna ssalc gnimmargorp nohtyP tsriF yM si siht'"
      ]
     },
     "execution_count": 7,
     "metadata": {},
     "output_type": "execute_result"
    }
   ],
   "source": [
    "#Answer Q2:\n",
    "s[::-1]"
   ]
  },
  {
   "cell_type": "markdown",
   "id": "5716e693",
   "metadata": {},
   "source": [
    "\n",
    "#Q3. Try to split a string after conversion of entire string in uppercase \n"
   ]
  },
  {
   "cell_type": "code",
   "execution_count": 16,
   "id": "fd4df7a1",
   "metadata": {},
   "outputs": [
    {
     "data": {
      "text/plain": [
       "['THIS',\n",
       " 'IS',\n",
       " 'MY',\n",
       " 'FIRST',\n",
       " 'PYTHON',\n",
       " 'PROGRAMMING',\n",
       " 'CLASS',\n",
       " 'AND',\n",
       " 'I',\n",
       " 'AM',\n",
       " 'LEARNING',\n",
       " 'PYTHON',\n",
       " 'STRING',\n",
       " 'AND',\n",
       " 'ITS',\n",
       " 'FUNCTION']"
      ]
     },
     "execution_count": 16,
     "metadata": {},
     "output_type": "execute_result"
    }
   ],
   "source": [
    "#Answer Q3:\n",
    "s1=s.upper()\n",
    "s1.split()\n"
   ]
  },
  {
   "cell_type": "markdown",
   "id": "407df9a3",
   "metadata": {},
   "source": [
    "#Q4. try to convert the whole string into lower case "
   ]
  },
  {
   "cell_type": "code",
   "execution_count": 18,
   "id": "ec3597de",
   "metadata": {},
   "outputs": [
    {
     "data": {
      "text/plain": [
       "'this is my first python programming class and i am learning python string and its function'"
      ]
     },
     "execution_count": 18,
     "metadata": {},
     "output_type": "execute_result"
    }
   ],
   "source": [
    "#Answer Q4:\n",
    "s.lower()"
   ]
  },
  {
   "cell_type": "markdown",
   "id": "09d0c196",
   "metadata": {},
   "source": [
    "#Q5 . Try to capitalize the whole string "
   ]
  },
  {
   "cell_type": "code",
   "execution_count": 20,
   "id": "8b376a92",
   "metadata": {},
   "outputs": [
    {
     "data": {
      "text/plain": [
       "'This Is My First Python Programming Class And I Am Learning Python String And Its Function'"
      ]
     },
     "execution_count": 20,
     "metadata": {},
     "output_type": "execute_result"
    }
   ],
   "source": [
    "#Answer Q5:\n",
    "s.title()"
   ]
  },
  {
   "cell_type": "markdown",
   "id": "9f087138",
   "metadata": {},
   "source": [
    "#Q6 . Write a diference between isalnum() and isalpha()"
   ]
  },
  {
   "cell_type": "code",
   "execution_count": 22,
   "id": "fb336dc0",
   "metadata": {},
   "outputs": [
    {
     "data": {
      "text/plain": [
       "'1. isalnum() is used to check whether the string comprises of either alphabets or numbers or both\\n   2. whereas isalpha() is used to check whether the string comprises only alphabets.\\n   3. if isalpha() check gives the out put as True then on the same string if checked isalnum() that will \\n      give the answer as True but not viceversa'"
      ]
     },
     "execution_count": 22,
     "metadata": {},
     "output_type": "execute_result"
    }
   ],
   "source": [
    "#Answer Q6.\n",
    "\"\"\"1. isalnum() is used to check whether the string comprises of either alphabets or numbers or both\n",
    "   2. whereas isalpha() is used to check whether the string comprises only alphabets.\n",
    "   3. if isalpha() check gives the out put as True then on the same string if checked isalnum() that will \n",
    "      give the answer as True but not viceversa\"\"\""
   ]
  },
  {
   "cell_type": "markdown",
   "id": "a5b388b4",
   "metadata": {},
   "source": [
    "\n",
    "#Q7. Try to give an example of expand tab"
   ]
  },
  {
   "cell_type": "code",
   "execution_count": 26,
   "id": "25ffe711",
   "metadata": {},
   "outputs": [
    {
     "data": {
      "text/plain": [
       "'veera   s       wathare'"
      ]
     },
     "execution_count": 26,
     "metadata": {},
     "output_type": "execute_result"
    }
   ],
   "source": [
    "#Answer Q7:\n",
    "x=\"veera\\ts\\twathare\"\n",
    "x.expandtabs()"
   ]
  },
  {
   "cell_type": "markdown",
   "id": "30006792",
   "metadata": {},
   "source": [
    "\n",
    "#Q8 . Give an example of strip , lstrip and rstrip "
   ]
  },
  {
   "cell_type": "code",
   "execution_count": 29,
   "id": "f0a8c4a5",
   "metadata": {},
   "outputs": [
    {
     "data": {
      "text/plain": [
       "'This is first Task'"
      ]
     },
     "execution_count": 29,
     "metadata": {},
     "output_type": "execute_result"
    }
   ],
   "source": [
    "#Answer Q8:\n",
    "y=\"   This is first Task    \"\n",
    "#strip operation removes space at the start and end\n",
    "y.strip()"
   ]
  },
  {
   "cell_type": "code",
   "execution_count": 30,
   "id": "59ad1e30",
   "metadata": {},
   "outputs": [
    {
     "data": {
      "text/plain": [
       "'This is first Task    '"
      ]
     },
     "execution_count": 30,
     "metadata": {},
     "output_type": "execute_result"
    }
   ],
   "source": [
    "#lstrip operation removes space only at the left side or at the start\n",
    "y.lstrip()"
   ]
  },
  {
   "cell_type": "code",
   "execution_count": 31,
   "id": "d87d5316",
   "metadata": {},
   "outputs": [
    {
     "data": {
      "text/plain": [
       "'   This is first Task'"
      ]
     },
     "execution_count": 31,
     "metadata": {},
     "output_type": "execute_result"
    }
   ],
   "source": [
    "#rstrip operation removes space only at the right side or at the end\n",
    "y.rstrip()"
   ]
  },
  {
   "cell_type": "code",
   "execution_count": 32,
   "id": "a9f6340a",
   "metadata": {},
   "outputs": [],
   "source": []
  },
  {
   "cell_type": "markdown",
   "id": "d3e6d0b8",
   "metadata": {},
   "source": [
    "\n",
    "#Q9.  Replace a string charecter by another charector by taking your own example \n",
    "\"sudhanshu\""
   ]
  },
  {
   "cell_type": "code",
   "execution_count": 34,
   "id": "66498c3d",
   "metadata": {},
   "outputs": [
    {
     "name": "stdout",
     "output_type": "stream",
     "text": [
      "sudhanshu\n"
     ]
    },
    {
     "data": {
      "text/plain": [
       "'xudhanxhu'"
      ]
     },
     "execution_count": 34,
     "metadata": {},
     "output_type": "execute_result"
    }
   ],
   "source": [
    "#Answer Q9:\n",
    "n=\"sudhanshu\"\n",
    "print(n)\n",
    "n.replace(\"s\",\"x\")"
   ]
  },
  {
   "cell_type": "markdown",
   "id": "664d19c6",
   "metadata": {},
   "source": [
    "\n",
    "#Q10 . Try  to give a defination of string center function with and exmple "
   ]
  },
  {
   "cell_type": "code",
   "execution_count": 38,
   "id": "6fd94eea",
   "metadata": {},
   "outputs": [
    {
     "data": {
      "text/plain": [
       "'*******veera********'"
      ]
     },
     "execution_count": 38,
     "metadata": {},
     "output_type": "execute_result"
    }
   ],
   "source": [
    "#Answer Q10:\n",
    "v=\"veera\"\n",
    "v.center(20,\"*\")\n",
    "#the .center(x,y) operation takes makes the width of length x in our case its 20 and \n",
    "#centers the defined string variable and fills the rest with y in our case \"*\" as per output"
   ]
  },
  {
   "cell_type": "markdown",
   "id": "6bba3b62",
   "metadata": {},
   "source": [
    "\n",
    "#Q11 . Write your own definition of compiler and interpretor without copy paste form internet in your own language"
   ]
  },
  {
   "cell_type": "code",
   "execution_count": 40,
   "id": "796256ba",
   "metadata": {},
   "outputs": [
    {
     "data": {
      "text/plain": [
       "'Compiler: it goes through entire code and gives the output at once or throws compiled errors at once becomes \\n            difficult to check where is the error\\n   Interpreter: it runs line by line and errors are highlighted wherever its found.'"
      ]
     },
     "execution_count": 40,
     "metadata": {},
     "output_type": "execute_result"
    }
   ],
   "source": [
    "#Answer Q11:\n",
    "\"\"\"Compiler: it goes through entire code and gives the output at once or throws compiled errors at once becomes \n",
    "            difficult to check where is the error\n",
    "   Interpreter: it runs line by line and errors are highlighted wherever its found.\"\"\""
   ]
  },
  {
   "cell_type": "markdown",
   "id": "4480a69f",
   "metadata": {},
   "source": [
    "#Q12 . Python is a interpreted of compiled language give a clear ans with your understanding "
   ]
  },
  {
   "cell_type": "code",
   "execution_count": 42,
   "id": "57d8e51f",
   "metadata": {},
   "outputs": [
    {
     "data": {
      "text/plain": [
       "' python is a interpreted language because this code is run line by line and errors are shown at the line itself where'"
      ]
     },
     "execution_count": 42,
     "metadata": {},
     "output_type": "execute_result"
    }
   ],
   "source": [
    "#Answer Q11:\n",
    "\"\"\" python is a interpreted language because this code is run line by line and errors are shown at the line itself where\n",
    "the error occurs and makes it easy for debugging and correcting the code\"\"\""
   ]
  },
  {
   "cell_type": "markdown",
   "id": "038c3c4b",
   "metadata": {},
   "source": [
    "\n",
    "\n",
    "#Q13 . Try to write a usecase of python with your understanding .\n"
   ]
  },
  {
   "cell_type": "code",
   "execution_count": null,
   "id": "713e688c",
   "metadata": {},
   "outputs": [],
   "source": [
    "#Answer Q13:\n",
    "\n",
    "\"\"\"Python usecases \n",
    "   software development\n",
    "   mobile app development\n",
    "   data analysis\n",
    "   data science\n",
    "   Artificial intelligence\n",
    "   machine learning\n",
    "   \"\"\""
   ]
  }
 ],
 "metadata": {
  "kernelspec": {
   "display_name": "Python 3 (ipykernel)",
   "language": "python",
   "name": "python3"
  },
  "language_info": {
   "codemirror_mode": {
    "name": "ipython",
    "version": 3
   },
   "file_extension": ".py",
   "mimetype": "text/x-python",
   "name": "python",
   "nbconvert_exporter": "python",
   "pygments_lexer": "ipython3",
   "version": "3.9.7"
  }
 },
 "nbformat": 4,
 "nbformat_minor": 5
}
