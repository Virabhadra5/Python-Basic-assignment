{
 "cells": [
  {
   "cell_type": "markdown",
   "id": "62fb2000",
   "metadata": {},
   "source": [
    "\n",
    "\n",
    "\n",
    "\n",
    "\n",
    "\n",
    "6. \n",
    "\n",
    "\n",
    "\n",
    "\n",
    "\n",
    "\n",
    "\n"
   ]
  },
  {
   "cell_type": "raw",
   "id": "ee28a48a",
   "metadata": {},
   "source": [
    "Q #1. In the below elements which of them are values or an expression? eg:- values can be integer or string and expressions will be mathematical operators.\n",
    "* \n",
    "'hello'\n",
    "-87.8\n",
    "- \n",
    "/ \n",
    "+\t\n",
    "6 "
   ]
  },
  {
   "cell_type": "raw",
   "id": "b6ed0274",
   "metadata": {},
   "source": [
    "# Answer Q1:\n",
    "\n",
    "Values: \"hello\", -87.8, 6\n",
    "Expressions: *, -, /, +"
   ]
  },
  {
   "cell_type": "raw",
   "id": "3725cda0",
   "metadata": {},
   "source": [
    "Q #2. What is the difference between string and variable?"
   ]
  },
  {
   "cell_type": "raw",
   "id": "6c61e41b",
   "metadata": {},
   "source": [
    "#Answer Q2:\n",
    "STRING: string is a data type which contains alphabets,numericals,characeters,etc these data can be defined in a single quote ('xyz') or double quote (\"xyz\") or triple quotes(\"\"\"xyz \"\"\" or '''xyz ''')\n",
    "\n",
    "VARIABLE : Variable is the object or entity which is used to store any kind of data or data types. variable needs to be assigned with any data to it. Example x=\"xyz\", where x is a variable which is assigned with the string \"xyz\""
   ]
  },
  {
   "cell_type": "raw",
   "id": "75e3ab68",
   "metadata": {},
   "source": [
    "Q #3. Describe three different data types."
   ]
  },
  {
   "cell_type": "raw",
   "id": "81bf1543",
   "metadata": {},
   "source": [
    "#ANSWER Q3:\n",
    "Three different types are INT, FLOAT STR\n",
    "INT- INT is a data type of numerical data of INTEGER\n",
    "FLOAT - FLOAT is a data type of FLOATING POINT numbers\n",
    "STR - STR is a data type used to store data in the string format as in above question examples"
   ]
  },
  {
   "cell_type": "raw",
   "id": "05a23743",
   "metadata": {},
   "source": [
    "Q #4. What is an expression made up of? What do all expressions do?"
   ]
  },
  {
   "cell_type": "raw",
   "id": "15cf56ab",
   "metadata": {},
   "source": [
    "#ANSWER Q4:\n",
    "Expression is made up of values, variables , operations and operators. \n",
    "Expressions evaluate based on the operators and provide the intended result"
   ]
  },
  {
   "cell_type": "raw",
   "id": "d4d804f2",
   "metadata": {},
   "source": [
    "Q#5. This assignment statements, like spam = 10. What is the difference between an expression and a statement?`"
   ]
  },
  {
   "cell_type": "raw",
   "id": "bdbb9432",
   "metadata": {},
   "source": [
    "Expression is made up of variables, values and operators which is evaluated to give a result.\n",
    "whereas the statements are used to assign a value to variable or display the values of a variable or print any statement or expression or variable or value"
   ]
  },
  {
   "cell_type": "raw",
   "id": "9ea6c09c",
   "metadata": {},
   "source": [
    "Q#6.After running the following code, what does the variable bacon contain?\n",
    "bacon = 22\n",
    "bacon + 1"
   ]
  },
  {
   "cell_type": "raw",
   "id": "0905e6a9",
   "metadata": {},
   "source": [
    "#Answer Q6.\n",
    "after running the code\n",
    "bacon = 22\n",
    "bacon + 1\n",
    "the bacon contains integer value 22 see the below cell for example"
   ]
  },
  {
   "cell_type": "code",
   "execution_count": 8,
   "id": "bbcde714",
   "metadata": {},
   "outputs": [
    {
     "data": {
      "text/plain": [
       "22"
      ]
     },
     "execution_count": 8,
     "metadata": {},
     "output_type": "execute_result"
    }
   ],
   "source": [
    "bacon=22\n",
    "bacon+1\n",
    "bacon"
   ]
  },
  {
   "cell_type": "raw",
   "id": "7df6e8b3",
   "metadata": {},
   "source": [
    "Q#7. What should the values of the following two terms be?\n",
    "'spam' + 'spamspam'\n",
    "'spam' * 3"
   ]
  },
  {
   "cell_type": "raw",
   "id": "62607ccd",
   "metadata": {},
   "source": [
    "#ANSWER Q7: \n",
    "The answer is 'spamspamspam'\n",
    "\n",
    "below is the code run"
   ]
  },
  {
   "cell_type": "code",
   "execution_count": 10,
   "id": "7cafe30f",
   "metadata": {},
   "outputs": [
    {
     "data": {
      "text/plain": [
       "'spamspamspam'"
      ]
     },
     "execution_count": 10,
     "metadata": {},
     "output_type": "execute_result"
    }
   ],
   "source": [
    "'spam' + 'spamspam'"
   ]
  },
  {
   "cell_type": "code",
   "execution_count": 11,
   "id": "98cde8e3",
   "metadata": {},
   "outputs": [
    {
     "data": {
      "text/plain": [
       "'spamspamspam'"
      ]
     },
     "execution_count": 11,
     "metadata": {},
     "output_type": "execute_result"
    }
   ],
   "source": [
    "'spam' * 3"
   ]
  },
  {
   "cell_type": "raw",
   "id": "23cc52cc",
   "metadata": {},
   "source": [
    "Q#8. Why is eggs a valid variable name while 100 is invalid?"
   ]
  },
  {
   "cell_type": "raw",
   "id": "8a153697",
   "metadata": {},
   "source": [
    "#ANSWER Q8:\n",
    "variable name can start with any alphabet or underscore but cannot start with numbers. hence eggs variable name is valid and 100 is invalid"
   ]
  },
  {
   "cell_type": "raw",
   "id": "830c9052",
   "metadata": {},
   "source": [
    "Q#9. What three functions can be used to get the integer, floating-point number, or string version of a value?"
   ]
  },
  {
   "cell_type": "raw",
   "id": "e1979deb",
   "metadata": {},
   "source": [
    "#Answer Q9:\n",
    "Three functions used are int(), float() and str().\n",
    "example in below cell"
   ]
  },
  {
   "cell_type": "code",
   "execution_count": 12,
   "id": "ea7435d0",
   "metadata": {},
   "outputs": [
    {
     "name": "stdout",
     "output_type": "stream",
     "text": [
      "100\n",
      "20.0\n",
      "100.5\n"
     ]
    }
   ],
   "source": [
    "print(int(100.8376))\n",
    "print(float(20))\n",
    "print(str(100.5))"
   ]
  },
  {
   "cell_type": "raw",
   "id": "b0c27e46",
   "metadata": {},
   "source": [
    "Q#10. Why does this expression cause an error? How can you fix it?\n",
    "'I have eaten ' + 99 + ' burritos.'"
   ]
  },
  {
   "cell_type": "raw",
   "id": "062277bd",
   "metadata": {},
   "source": [
    "#AnswerQ10:\n",
    "'I have eaten ' + 99 + ' burritos.' this expression contains the concatenation operation between different types of data types\n",
    "where 99 is a str and other two are strings hence this expression will cause an error.\n",
    "if we type cast 99 as string in the form of str(99) in the above expression the error will be fixed. please see the below cell for fixed expression\n"
   ]
  },
  {
   "cell_type": "code",
   "execution_count": 13,
   "id": "8c133c42",
   "metadata": {},
   "outputs": [
    {
     "data": {
      "text/plain": [
       "'I have eaten 99 burritos.'"
      ]
     },
     "execution_count": 13,
     "metadata": {},
     "output_type": "execute_result"
    }
   ],
   "source": [
    "'I have eaten ' + str(99) + ' burritos.'"
   ]
  },
  {
   "cell_type": "code",
   "execution_count": null,
   "id": "fc8cf5bc",
   "metadata": {},
   "outputs": [],
   "source": []
  }
 ],
 "metadata": {
  "kernelspec": {
   "display_name": "Python 3 (ipykernel)",
   "language": "python",
   "name": "python3"
  },
  "language_info": {
   "codemirror_mode": {
    "name": "ipython",
    "version": 3
   },
   "file_extension": ".py",
   "mimetype": "text/x-python",
   "name": "python",
   "nbconvert_exporter": "python",
   "pygments_lexer": "ipython3",
   "version": "3.9.7"
  }
 },
 "nbformat": 4,
 "nbformat_minor": 5
}
