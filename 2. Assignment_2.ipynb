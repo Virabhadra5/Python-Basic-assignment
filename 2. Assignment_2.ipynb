{
 "cells": [
  {
   "cell_type": "code",
   "execution_count": 1,
   "id": "d01435fc",
   "metadata": {},
   "outputs": [],
   "source": [
    "#Q1.What are the two values of the Boolean data type? How do you write them?"
   ]
  },
  {
   "cell_type": "code",
   "execution_count": 2,
   "id": "102fbf1c",
   "metadata": {},
   "outputs": [],
   "source": [
    "#Answer Q1:\n",
    "#Two values of the Boolean data types are True and False.\n",
    "#we write them with first letter capital and rest in small letter i.e. True and False"
   ]
  },
  {
   "cell_type": "code",
   "execution_count": 3,
   "id": "15926c24",
   "metadata": {},
   "outputs": [],
   "source": [
    "#Q2. What are the three different types of Boolean operators?"
   ]
  },
  {
   "cell_type": "code",
   "execution_count": 4,
   "id": "75fc0027",
   "metadata": {},
   "outputs": [],
   "source": [
    "#Answer Q2:\n",
    "#Three different types of boolean operators are 1.not 2.and & 3.or"
   ]
  },
  {
   "cell_type": "code",
   "execution_count": 5,
   "id": "9892d949",
   "metadata": {},
   "outputs": [],
   "source": [
    "#Q3. Make a list of each Boolean operator's truth tables \n",
    "#(i.e. every possible combination of Boolean values for the operator and what it evaluate )."
   ]
  },
  {
   "cell_type": "code",
   "execution_count": 8,
   "id": "8793f053",
   "metadata": {},
   "outputs": [
    {
     "data": {
      "text/plain": [
       "\"\\nTruth table for 'and' operator\\n\\n1.True and True evaluates to give a result as  True\\n2.False and True evalutes to give a result as False\\n3.False and False evaluates to give a result as False\\n4.True and False evalauates to give a result as True\\n\\nTruth table for 'or' operator\\n\\n1.True or True evaluates to give a result as True\\n2.False or True evalutes to give a result as True\\n3.False or False evaluates to give a result as False\\n4.True or False evalauates to give a result as True\\n\\nTruth table for 'not' operator\\n\\n1. not True evaluates to give a result as False\\n2. not False evalutates to give a result as True\\n\""
      ]
     },
     "execution_count": 8,
     "metadata": {},
     "output_type": "execute_result"
    }
   ],
   "source": [
    "#Answer Q3:\n",
    "\"\"\"\n",
    "Truth table for 'and' operator\n",
    "\n",
    "1.True and True evaluates to give a result as  True\n",
    "2.False and True evalutes to give a result as False\n",
    "3.False and False evaluates to give a result as False\n",
    "4.True and False evalauates to give a result as True\n",
    "\n",
    "Truth table for 'or' operator\n",
    "\n",
    "1.True or True evaluates to give a result as True\n",
    "2.False or True evalutes to give a result as True\n",
    "3.False or False evaluates to give a result as False\n",
    "4.True or False evalauates to give a result as True\n",
    "\n",
    "Truth table for 'not' operator\n",
    "\n",
    "1. not True evaluates to give a result as False\n",
    "2. not False evalutates to give a result as True\n",
    "\"\"\"\n"
   ]
  },
  {
   "cell_type": "code",
   "execution_count": 9,
   "id": "218fc7a1",
   "metadata": {},
   "outputs": [],
   "source": [
    "#Q4. What are the values of the following expressions?\n",
    "#(5 > 4) and (3 == 5)\n",
    "#not (5 > 4)\n",
    "#(5 > 4) or (3 == 5)\n",
    "#not ((5 > 4) or (3 == 5))\n",
    "#(True and True) and (True == False)\n",
    "#(not False) or (not True)\n"
   ]
  },
  {
   "cell_type": "code",
   "execution_count": 10,
   "id": "5c10ecbe",
   "metadata": {},
   "outputs": [],
   "source": [
    "#Answer Q4. What are the values of the following expressions?\n",
    "#(5 > 4) and (3 == 5) ---> False\n",
    "#not (5 > 4) --->  False\n",
    "#(5 > 4) or (3 == 5) ---> True\n",
    "#not ((5 > 4) or (3 == 5)) ---> False\n",
    "#(True and True) and (True == False) ---> False\n",
    "#(not False) or (not True) ---> True\n",
    "\n",
    "#executed results as below "
   ]
  },
  {
   "cell_type": "code",
   "execution_count": 13,
   "id": "a796d361",
   "metadata": {},
   "outputs": [
    {
     "name": "stdout",
     "output_type": "stream",
     "text": [
      "(5 > 4) and (3 == 5) ---> False\n",
      "not (5 > 4) False\n",
      "(5 > 4) or (3 == 5) True\n",
      "not ((5 > 4) or (3 == 5)) False\n",
      "(True and True) and (True == False) False\n",
      "(not False) or (not True) True\n"
     ]
    }
   ],
   "source": [
    "#Answer Q4. executed as a code or expression\n",
    "print(\"(5 > 4) and (3 == 5) --->\",(5 > 4) and (3 == 5)) #False\n",
    "print(\"not (5 > 4)\", not (5 > 4))          #False\n",
    "print('(5 > 4) or (3 == 5)',(5 > 4) or (3 == 5))  #True\n",
    "print('not ((5 > 4) or (3 == 5))', not ((5 > 4) or (3 == 5)))  #False\n",
    "print('(True and True) and (True == False)', (True and True) and (True == False)) #False\n",
    "print('(not False) or (not True)', (not False) or (not True)) #True\n"
   ]
  },
  {
   "cell_type": "code",
   "execution_count": 14,
   "id": "ca0e1fb0",
   "metadata": {},
   "outputs": [],
   "source": [
    "#5. What are the six comparison operators?"
   ]
  },
  {
   "cell_type": "code",
   "execution_count": 15,
   "id": "eb284a7b",
   "metadata": {},
   "outputs": [],
   "source": [
    "#Answer Q5:\n",
    "#Six comparison operators are\n",
    "#1. equal to \"==\"\n",
    "#2. not equal to \"!=\"\n",
    "#3. greater than \">\"\n",
    "#4. lesser than  \"<\"\n",
    "#5. greater than or equal to \">=\"\n",
    "#6. less than or equal to \"<=\""
   ]
  },
  {
   "cell_type": "code",
   "execution_count": 16,
   "id": "a3afb649",
   "metadata": {},
   "outputs": [],
   "source": [
    "#Q6. How do you tell the difference between the equal to and assignment operators?\n",
    "#Describe a condition and when you would use one."
   ]
  },
  {
   "cell_type": "code",
   "execution_count": 17,
   "id": "586d9ee5",
   "metadata": {},
   "outputs": [],
   "source": [
    "#Answer Q6.\n",
    "\n",
    "# equal to operator is writter with \"==\" for example 5==5, 6==5 checks if the value 5 is equl to 5 and 6 is equal to 5 resplectively\n",
    "# Assignment operator is written with \"=\" for example a=5, b=6, assigns value 5 to variable a and value 6 to variable b respectively\n",
    "#we use the assignment operator when we have to assign any value to variable\n",
    "#we use the equal to operator in case of checking some conditions or in case of loops etc"
   ]
  },
  {
   "cell_type": "code",
   "execution_count": 18,
   "id": "3ca3fd14",
   "metadata": {},
   "outputs": [],
   "source": [
    "#Q7. Identify the three blocks in this code:\n",
    "#spam = 0\n",
    "#if spam == 10:\n",
    "#print('eggs')\n",
    "#if spam > 5:\n",
    "#print('bacon')\n",
    "#else:\n",
    "#print('ham')\n",
    "#print('spam')\n",
    "#print('spam')\n"
   ]
  },
  {
   "cell_type": "code",
   "execution_count": 19,
   "id": "65c39c44",
   "metadata": {},
   "outputs": [],
   "source": [
    "#Q7. Identify the three blocks in this code:\n",
    "#spam = 0\n",
    "#if spam == 10:\n",
    "#print('eggs')        ----------> BLOCK 1 - Indentation to be provided\n",
    "#if spam > 5:\n",
    "#print('bacon')       ----------> BLOCK 2 - Indentation to be provided\n",
    "#else:\n",
    "#print('ham')         ---------->  BLOCK 3 - Indentation to be provided   \n",
    "#print('spam')\n",
    "#print('spam')\n"
   ]
  },
  {
   "cell_type": "code",
   "execution_count": 20,
   "id": "4e8353a3",
   "metadata": {},
   "outputs": [
    {
     "name": "stdout",
     "output_type": "stream",
     "text": [
      "ham\n",
      "spam\n",
      "spam\n"
     ]
    }
   ],
   "source": [
    "#Answer Q7:\n",
    "spam = 0\n",
    "if spam == 10:\n",
    "    print('eggs')\n",
    "if spam > 5:\n",
    "    print('bacon')\n",
    "else:\n",
    "    print('ham')\n",
    "    print('spam')\n",
    "    print('spam')\n"
   ]
  },
  {
   "cell_type": "code",
   "execution_count": 21,
   "id": "df742453",
   "metadata": {},
   "outputs": [],
   "source": [
    "#Q 8. Write code that prints Hello if 1 is stored in spam, prints Howdy if 2 is stored in spam, and \n",
    "#prints Greetings! if anything else is stored in spam."
   ]
  },
  {
   "cell_type": "code",
   "execution_count": 24,
   "id": "bab3682a",
   "metadata": {},
   "outputs": [
    {
     "name": "stdout",
     "output_type": "stream",
     "text": [
      "Greetings!\n"
     ]
    }
   ],
   "source": [
    "#Answer Q8:\n",
    "spam = 0\n",
    "if spam == 1:\n",
    "    print(\"hello\")\n",
    "elif spam == 2:\n",
    "    print(\"Howdy\")\n",
    "else:\n",
    "    print(\"Greetings!\")"
   ]
  },
  {
   "cell_type": "code",
   "execution_count": 23,
   "id": "0986fa68",
   "metadata": {},
   "outputs": [],
   "source": [
    "#9.If your programme is stuck in an endless loop, what keys you’ll press?"
   ]
  },
  {
   "cell_type": "code",
   "execution_count": 25,
   "id": "92cec8dd",
   "metadata": {},
   "outputs": [],
   "source": [
    "#Answer Q9:\n",
    "#If the programme is stuck in endless loop will \"interrupt the Kernel\" or use keys \"Ctrl+c\" "
   ]
  },
  {
   "cell_type": "code",
   "execution_count": 26,
   "id": "a57be0b2",
   "metadata": {},
   "outputs": [],
   "source": [
    "#Q9. How can you tell the difference between break and continue?"
   ]
  },
  {
   "cell_type": "code",
   "execution_count": 27,
   "id": "beb99211",
   "metadata": {},
   "outputs": [],
   "source": [
    "#Answer Q9:\n",
    "# break statement is used to break the loop in case if condition is met and moves outside of the loop\n",
    "# continue statement is used to continue the loop when we have certain condition , this skips the code written in the loop \n",
    "# for that particular condition and moves to the start of the loop for next iteration\n",
    "# examples for the same are given below"
   ]
  },
  {
   "cell_type": "code",
   "execution_count": 30,
   "id": "8426f46d",
   "metadata": {},
   "outputs": [
    {
     "name": "stdout",
     "output_type": "stream",
     "text": [
      "0\n",
      "1\n",
      "2\n"
     ]
    }
   ],
   "source": [
    "#Answer Q9 example of break\n",
    "for i in range(10):\n",
    "    if i==3:\n",
    "        break\n",
    "    else:\n",
    "        print(i)"
   ]
  },
  {
   "cell_type": "code",
   "execution_count": 31,
   "id": "779d3611",
   "metadata": {},
   "outputs": [
    {
     "name": "stdout",
     "output_type": "stream",
     "text": [
      "0\n",
      "1\n",
      "2\n",
      "4\n",
      "5\n",
      "6\n",
      "7\n",
      "8\n",
      "9\n"
     ]
    }
   ],
   "source": [
    "#Answer Q9 example of continue\n",
    "for i in range(10):\n",
    "    if i==3:\n",
    "        continue\n",
    "    else:\n",
    "        print(i)"
   ]
  },
  {
   "cell_type": "code",
   "execution_count": 32,
   "id": "de28a823",
   "metadata": {},
   "outputs": [],
   "source": [
    "#Q11. In a for loop, what is the difference between range(10), range(0, 10), and range(0, 10, 1)?"
   ]
  },
  {
   "cell_type": "code",
   "execution_count": 33,
   "id": "9fcf0e63",
   "metadata": {},
   "outputs": [],
   "source": [
    "#Answer Q11\n",
    "# range(10)  ----> means the for loop iterates through values 0 to 10 excluding 10\n",
    "# range(0,10) ---->means for loop iterates through values 0 to 10 excluding 10 its same as range(10)\n",
    "# range(0,10,1) ---->means the for loop iterates through values 0 to 10 exclding 10 with a step size of 1, its same as range(10) or range(0,10) "
   ]
  },
  {
   "cell_type": "code",
   "execution_count": 45,
   "id": "205b9081",
   "metadata": {},
   "outputs": [
    {
     "name": "stdout",
     "output_type": "stream",
     "text": [
      "0\n",
      "1\n",
      "2\n",
      "3\n",
      "4\n",
      "5\n",
      "6\n",
      "7\n",
      "8\n",
      "9\n"
     ]
    }
   ],
   "source": [
    "#Answer Q11 for loop in range(10)\n",
    "for i in range(10):\n",
    "    print(i)"
   ]
  },
  {
   "cell_type": "code",
   "execution_count": 46,
   "id": "8f5cf93e",
   "metadata": {},
   "outputs": [
    {
     "name": "stdout",
     "output_type": "stream",
     "text": [
      "0\n",
      "1\n",
      "2\n",
      "3\n",
      "4\n",
      "5\n",
      "6\n",
      "7\n",
      "8\n",
      "9\n"
     ]
    }
   ],
   "source": [
    "#Answer Q11 for loop in range(0,10)\n",
    "for i in range(10):\n",
    "    print(i)"
   ]
  },
  {
   "cell_type": "code",
   "execution_count": 47,
   "id": "c0262b77",
   "metadata": {},
   "outputs": [
    {
     "name": "stdout",
     "output_type": "stream",
     "text": [
      "0\n",
      "1\n",
      "2\n",
      "3\n",
      "4\n",
      "5\n",
      "6\n",
      "7\n",
      "8\n",
      "9\n"
     ]
    }
   ],
   "source": [
    "#Answer Q11 for loop in range(0,10,1)\n",
    "for i in range(10):\n",
    "    print(i)"
   ]
  },
  {
   "cell_type": "code",
   "execution_count": 48,
   "id": "146d418f",
   "metadata": {},
   "outputs": [],
   "source": [
    "#Q12. Write a short program that prints the numbers 1 to 10 using a for loop. \n",
    "#Then write an equivalent program that prints the numbers 1 to 10 using a while loop."
   ]
  },
  {
   "cell_type": "code",
   "execution_count": 49,
   "id": "fd38ddcb",
   "metadata": {},
   "outputs": [
    {
     "name": "stdout",
     "output_type": "stream",
     "text": [
      "1\n",
      "2\n",
      "3\n",
      "4\n",
      "5\n",
      "6\n",
      "7\n",
      "8\n",
      "9\n",
      "10\n"
     ]
    }
   ],
   "source": [
    "#Answer Q12 using for loop\n",
    "for i in range(1,11):\n",
    "    print(i)"
   ]
  },
  {
   "cell_type": "code",
   "execution_count": 50,
   "id": "2a2a64ac",
   "metadata": {},
   "outputs": [
    {
     "name": "stdout",
     "output_type": "stream",
     "text": [
      "1\n",
      "2\n",
      "3\n",
      "4\n",
      "5\n",
      "6\n",
      "7\n",
      "8\n",
      "9\n",
      "10\n"
     ]
    }
   ],
   "source": [
    "#Answer Q12 using While loop\n",
    "a=1\n",
    "while a<=10:\n",
    "    print(a)\n",
    "    a+=1"
   ]
  },
  {
   "cell_type": "code",
   "execution_count": 51,
   "id": "b2c5a989",
   "metadata": {},
   "outputs": [],
   "source": [
    "#13. If you had a function named bacon() inside a module named spam, how would you call it after importing spam?"
   ]
  },
  {
   "cell_type": "code",
   "execution_count": 52,
   "id": "299eec47",
   "metadata": {},
   "outputs": [],
   "source": [
    "#Answer Q13:\n",
    "# import spam\n",
    "# spam.bacon()"
   ]
  },
  {
   "cell_type": "code",
   "execution_count": 55,
   "id": "42eb1d86",
   "metadata": {},
   "outputs": [
    {
     "name": "stdout",
     "output_type": "stream",
     "text": [
      "this is bacon from module spam\n"
     ]
    }
   ],
   "source": [
    "import spam\n",
    "spam.bacon()"
   ]
  },
  {
   "cell_type": "code",
   "execution_count": null,
   "id": "3dbc7a23",
   "metadata": {},
   "outputs": [],
   "source": []
  },
  {
   "cell_type": "code",
   "execution_count": null,
   "id": "c786d74e",
   "metadata": {},
   "outputs": [],
   "source": []
  }
 ],
 "metadata": {
  "kernelspec": {
   "display_name": "Python 3 (ipykernel)",
   "language": "python",
   "name": "python3"
  },
  "language_info": {
   "codemirror_mode": {
    "name": "ipython",
    "version": 3
   },
   "file_extension": ".py",
   "mimetype": "text/x-python",
   "name": "python",
   "nbconvert_exporter": "python",
   "pygments_lexer": "ipython3",
   "version": "3.9.7"
  }
 },
 "nbformat": 4,
 "nbformat_minor": 5
}
