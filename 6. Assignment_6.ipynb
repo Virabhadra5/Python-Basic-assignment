{
 "cells": [
  {
   "cell_type": "markdown",
   "id": "1cb0cb6a",
   "metadata": {},
   "source": [
    "#Q1. What are escape characters, and how do you use them?"
   ]
  },
  {
   "cell_type": "markdown",
   "id": "1741b65e",
   "metadata": {},
   "source": [
    "**Answer Q1:**\n",
    "    \n",
    "    Escape characters are characters used in strings to have some \n",
    "    whitespaces. generally escape characters are used with a backslash\n",
    "    followed by a character for respective operation \n",
    "    for example \\t creates a tab space in the string"
   ]
  },
  {
   "cell_type": "markdown",
   "id": "0d7a5bc9",
   "metadata": {},
   "source": [
    "#Q2. What do the escape characters n and t stand for?"
   ]
  },
  {
   "cell_type": "markdown",
   "id": "6094b89e",
   "metadata": {},
   "source": [
    "**Answer Q2:**\n",
    "    \n",
    "    \\n stands for newline\n",
    "    \\t stands for tab"
   ]
  },
  {
   "cell_type": "markdown",
   "id": "0f9ac3b2",
   "metadata": {},
   "source": [
    "#Q3. What is the way to include backslash characters in a string?"
   ]
  },
  {
   "cell_type": "markdown",
   "id": "bbcb6486",
   "metadata": {},
   "source": [
    "**Answer Q3:**\n",
    "    \n",
    "    \\\\ to be used to include the backslash character in string"
   ]
  },
  {
   "cell_type": "markdown",
   "id": "991f29fa",
   "metadata": {},
   "source": [
    "#Q4. The string \"Howl's Moving Castle\" is a correct value. Why isn't the single quote character in the word Howl's not escaped a problem?"
   ]
  },
  {
   "cell_type": "markdown",
   "id": "9c0b9b28",
   "metadata": {},
   "source": [
    "**Answer Q4:**\n",
    "    \n",
    "    single quote is not escaped because it is enclosed in a double \n",
    "    quote"
   ]
  },
  {
   "cell_type": "markdown",
   "id": "7c48ffee",
   "metadata": {},
   "source": [
    "#Q5. How do you write a string of newlines if you don't want to use the n character?"
   ]
  },
  {
   "cell_type": "markdown",
   "id": "9ecdbebf",
   "metadata": {},
   "source": [
    "**Answer Q5:**\n",
    "    \n",
    "    we use multiline string (enclosed with triple quote)"
   ]
  },
  {
   "cell_type": "markdown",
   "id": "f1a1fa67",
   "metadata": {},
   "source": [
    "#Q6. What are the values of the given expressions?\n",
    "\n",
    "'Hello, world!'[1]\n",
    "\n",
    "'Hello, world!'[0:5]\n",
    "\n",
    "'Hello, world!'[:5]\n",
    "\n",
    "'Hello, world!'[3:]\n"
   ]
  },
  {
   "cell_type": "code",
   "execution_count": 18,
   "id": "da29177a",
   "metadata": {},
   "outputs": [
    {
     "name": "stdout",
     "output_type": "stream",
     "text": [
      "value of Hello, world!'[1] e\n",
      "value of 'Hello, world!'[0:5] Hello\n",
      "value of 'Hello, world!'[:5] Hello\n",
      "Value of 'Hello, world!'[3:] lo, world!\n"
     ]
    }
   ],
   "source": [
    "#Answer Q6: the values of the given expression are\n",
    "print(\"value of Hello, world!'[1]\",'Hello, world!'[1] )\n",
    "\n",
    "print(\"value of 'Hello, world!'[0:5]\", 'Hello, world!'[0:5])\n",
    "\n",
    "print(\"value of 'Hello, world!'[:5]\", 'Hello, world!'[:5])\n",
    "\n",
    "print(\"Value of 'Hello, world!'[3:]\", 'Hello, world!'[3:])\n"
   ]
  },
  {
   "cell_type": "markdown",
   "id": "b2e3e1c7",
   "metadata": {},
   "source": [
    "#Q7. What are the values of the following expressions?\n",
    "\n",
    "'Hello'.upper()\n",
    "\n",
    "'Hello'.upper().isupper()\n",
    "\n",
    "'Hello'.upper().lower()\n"
   ]
  },
  {
   "cell_type": "code",
   "execution_count": 19,
   "id": "54926d62",
   "metadata": {},
   "outputs": [
    {
     "name": "stdout",
     "output_type": "stream",
     "text": [
      "HELLO\n",
      "True\n",
      "hello\n"
     ]
    }
   ],
   "source": [
    "#Answer Q7:\n",
    "\n",
    "print('Hello'.upper())\n",
    "print('Hello'.upper().isupper())\n",
    "print('Hello'.upper().lower())"
   ]
  },
  {
   "cell_type": "markdown",
   "id": "25549cce",
   "metadata": {},
   "source": [
    "#Q8. What are the values of the following expressions?\n",
    "\n",
    "'Remember, remember, the fifth of July.'.split()\n",
    "\n",
    "'-'.join('There can only one.'.split())\n"
   ]
  },
  {
   "cell_type": "code",
   "execution_count": 21,
   "id": "a0a26b7e",
   "metadata": {},
   "outputs": [
    {
     "name": "stdout",
     "output_type": "stream",
     "text": [
      "['Remember,', 'remember,', 'the', 'fifth', 'of', 'July.']\n",
      "There-can-only-one.\n"
     ]
    }
   ],
   "source": [
    "#Answer Q8:\n",
    "\n",
    "print('Remember, remember, the fifth of July.'.split())\n",
    "\n",
    "print('-'.join('There can only one.'.split()))\n",
    "\n"
   ]
  },
  {
   "cell_type": "markdown",
   "id": "915ce16e",
   "metadata": {},
   "source": [
    "#Q9. What are the methods for right-justifying, left-justifying, and centering a string?"
   ]
  },
  {
   "cell_type": "markdown",
   "id": "05acc0cb",
   "metadata": {},
   "source": [
    "**Answer Q9:**\n",
    "    \n",
    "**right-Justifying**  - .rjust()\n",
    "\n",
    "**left-Justifying**   - .ljust()\n",
    "\n",
    "**centering**     - .center()"
   ]
  },
  {
   "cell_type": "markdown",
   "id": "1d7f8378",
   "metadata": {},
   "source": [
    "#Q10. What is the best way to remove whitespace characters from the start or end?"
   ]
  },
  {
   "cell_type": "markdown",
   "id": "61704ea8",
   "metadata": {},
   "source": [
    "**Answer Q10:**\n",
    "    \n",
    "    we can use string methods .lstrip and .rstrip to remove the white     spaces at the start and end respectively\n",
    "    or we can use method .strip() to remove whitespace both at start     and end simultaneosly"
   ]
  },
  {
   "cell_type": "code",
   "execution_count": null,
   "id": "0c47cd6b",
   "metadata": {},
   "outputs": [],
   "source": []
  }
 ],
 "metadata": {
  "kernelspec": {
   "display_name": "Python 3 (ipykernel)",
   "language": "python",
   "name": "python3"
  },
  "language_info": {
   "codemirror_mode": {
    "name": "ipython",
    "version": 3
   },
   "file_extension": ".py",
   "mimetype": "text/x-python",
   "name": "python",
   "nbconvert_exporter": "python",
   "pygments_lexer": "ipython3",
   "version": "3.9.7"
  }
 },
 "nbformat": 4,
 "nbformat_minor": 5
}
