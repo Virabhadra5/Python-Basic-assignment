{
 "cells": [
  {
   "cell_type": "markdown",
   "id": "8f23f9a0",
   "metadata": {},
   "source": [
    "#Q1. What does an empty dictionary's code look like?"
   ]
  },
  {
   "cell_type": "markdown",
   "id": "5f4c7d7d",
   "metadata": {},
   "source": [
    "**Answer Q1:**\n",
    "    \n",
    "Empty dictionary looks as follows d={}\n",
    "\n"
   ]
  },
  {
   "cell_type": "code",
   "execution_count": 3,
   "id": "12f00826",
   "metadata": {},
   "outputs": [
    {
     "data": {
      "text/plain": [
       "dict"
      ]
     },
     "execution_count": 3,
     "metadata": {},
     "output_type": "execute_result"
    }
   ],
   "source": [
    "d={}\n",
    "type(d)"
   ]
  },
  {
   "cell_type": "markdown",
   "id": "2816a69f",
   "metadata": {},
   "source": [
    "#Q2. What is the value of a dictionary value with the key 'foo' and the value 42?"
   ]
  },
  {
   "cell_type": "code",
   "execution_count": 5,
   "id": "2ff13a3b",
   "metadata": {},
   "outputs": [
    {
     "data": {
      "text/plain": [
       "dict_values([42])"
      ]
     },
     "execution_count": 5,
     "metadata": {},
     "output_type": "execute_result"
    }
   ],
   "source": [
    "#Answer Q2: the value is 42 dict can be d={'foo':42}\n",
    "d={'foo':42}\n",
    "d.values()"
   ]
  },
  {
   "cell_type": "markdown",
   "id": "0f766e91",
   "metadata": {},
   "source": [
    "#Q3. What is the most significant distinction between a dictionary and a list?"
   ]
  },
  {
   "cell_type": "markdown",
   "id": "6d533894",
   "metadata": {},
   "source": [
    "**Answer Q3:**\n",
    "\n",
    "The most significant difference between lists and dictionaries are\n",
    "\n",
    " 1.The values in the lists are accessed using their indexes and          values in dictionaries are accessed using their respective keys\n",
    "\n",
    "2. The lists can be created with a [] and values separated by a ','  but dictionaries have to be created with {} as 'key':'value' pairs \n",
    "\n",
    "3. lists are ordered with indexes starting from 0 where as dictionaries are unordered"
   ]
  },
  {
   "cell_type": "markdown",
   "id": "6272d14a",
   "metadata": {},
   "source": [
    "#Q4. What happens if you try to access spam['foo'] if spam is {'bar': 100}?"
   ]
  },
  {
   "cell_type": "code",
   "execution_count": 8,
   "id": "b8adbecc",
   "metadata": {},
   "outputs": [
    {
     "ename": "KeyError",
     "evalue": "'foo'",
     "output_type": "error",
     "traceback": [
      "\u001b[1;31m---------------------------------------------------------------------------\u001b[0m",
      "\u001b[1;31mKeyError\u001b[0m                                  Traceback (most recent call last)",
      "\u001b[1;32m~\\AppData\\Local\\Temp/ipykernel_10784/1274674345.py\u001b[0m in \u001b[0;36m<module>\u001b[1;34m\u001b[0m\n\u001b[0;32m      1\u001b[0m \u001b[1;31m#Answer Q4: if we try to access spam['foo'] this gives key error as follows\u001b[0m\u001b[1;33m\u001b[0m\u001b[1;33m\u001b[0m\u001b[0m\n\u001b[0;32m      2\u001b[0m \u001b[0mspam\u001b[0m \u001b[1;33m=\u001b[0m \u001b[1;33m{\u001b[0m\u001b[1;34m'bar'\u001b[0m\u001b[1;33m:\u001b[0m\u001b[1;36m100\u001b[0m\u001b[1;33m}\u001b[0m\u001b[1;33m\u001b[0m\u001b[1;33m\u001b[0m\u001b[0m\n\u001b[1;32m----> 3\u001b[1;33m \u001b[0mspam\u001b[0m\u001b[1;33m[\u001b[0m\u001b[1;34m'foo'\u001b[0m\u001b[1;33m]\u001b[0m\u001b[1;33m\u001b[0m\u001b[1;33m\u001b[0m\u001b[0m\n\u001b[0m",
      "\u001b[1;31mKeyError\u001b[0m: 'foo'"
     ]
    }
   ],
   "source": [
    "#Answer Q4: if we try to access spam['foo'] this gives key error as follows\n",
    "spam = {'bar':100}\n",
    "spam['foo']"
   ]
  },
  {
   "cell_type": "markdown",
   "id": "7ae6801b",
   "metadata": {},
   "source": [
    "#Q5. If a dictionary is stored in spam, what is the difference between the expressions 'cat' in spam and 'cat' in spam.keys()?"
   ]
  },
  {
   "cell_type": "markdown",
   "id": "2d7ca8f0",
   "metadata": {},
   "source": [
    "**Answer Q5:** \n",
    "    \n",
    "    1. 'cat' in spam expression checks presence of key 'cat' in               dictionary spam\n",
    "    2. 'cat' in spam.keys() means this checks presence of 'cat' in           list of keys in spam\n",
    "    Result of both the expressions is same"
   ]
  },
  {
   "cell_type": "code",
   "execution_count": 13,
   "id": "bb5f4d1f",
   "metadata": {},
   "outputs": [
    {
     "name": "stdout",
     "output_type": "stream",
     "text": [
      "'cat' in spam <class 'dict'> {'cat': 'hello', 'rat': 100} result of expression True\n",
      "'cat' in spam.keys() <class 'dict_keys'> dict_keys(['cat', 'rat']) result of expression True\n"
     ]
    }
   ],
   "source": [
    "spam={'cat':\"hello\", \"rat\":100}\n",
    "print(\"'cat' in spam\", type(spam), spam, \"result of expression\", 'cat' in spam)\n",
    "print(\"'cat' in spam.keys()\", type(spam.keys()), spam.keys(), \"result of expression\", 'cat' in spam.keys())"
   ]
  },
  {
   "cell_type": "markdown",
   "id": "378f24ab",
   "metadata": {},
   "source": [
    "#Q6. If a dictionary is stored in spam, what is the difference between the expressions 'cat' in spam and 'cat' in spam.values()?"
   ]
  },
  {
   "cell_type": "markdown",
   "id": "beaebea6",
   "metadata": {},
   "source": [
    "**Answer Q5:** \n",
    "    \n",
    "    1. 'cat' in spam expression checks presence of key 'cat' in               dictionary spam\n",
    "    2. 'cat' in spam.values() means this checks presence of 'cat' in           list of values in spam\n",
    "    Result of both the expressions are different"
   ]
  },
  {
   "cell_type": "code",
   "execution_count": 18,
   "id": "b4964112",
   "metadata": {},
   "outputs": [
    {
     "name": "stdout",
     "output_type": "stream",
     "text": [
      "'cat' in spam <class 'dict'> {'cat': 'hello', 'rat': 100} result of expression True\n",
      "'cat' in spam.keys() <class 'dict_values'> dict_values(['hello', 100]) result of expression False\n"
     ]
    }
   ],
   "source": [
    "spam={'cat':\"hello\", \"rat\":100}\n",
    "print(\"'cat' in spam\", type(spam), spam, \"result of expression\", 'cat' in spam)\n",
    "print(\"'cat' in spam.keys()\", type(spam.values()), spam.values(), \"result of expression\", 'cat' in spam.values())"
   ]
  },
  {
   "cell_type": "markdown",
   "id": "43c839e7",
   "metadata": {},
   "source": [
    "#Q7. What is a shortcut for the following code?\n",
    "\n",
    "if 'color' not in spam:\n",
    "\n",
    "spam['color'] = 'black'\n"
   ]
  },
  {
   "cell_type": "code",
   "execution_count": 43,
   "id": "4d37cb70",
   "metadata": {},
   "outputs": [
    {
     "data": {
      "text/plain": [
       "'black'"
      ]
     },
     "execution_count": 43,
     "metadata": {},
     "output_type": "execute_result"
    }
   ],
   "source": [
    "#Answer Q7.\n",
    "\n",
    "spam.setdefault('color', 'black')"
   ]
  },
  {
   "cell_type": "markdown",
   "id": "de0facbc",
   "metadata": {},
   "source": [
    "#Q8. How do you \"pretty print\" dictionary values using which module and function?"
   ]
  },
  {
   "cell_type": "code",
   "execution_count": 48,
   "id": "38232670",
   "metadata": {},
   "outputs": [
    {
     "name": "stdout",
     "output_type": "stream",
     "text": [
      "{'cat': 'hello', 'color': 'black', 'rat': 100}\n"
     ]
    }
   ],
   "source": [
    "#Answer Q8:\n",
    "#by using pprint module and pprint() function\n",
    "import pprint\n",
    "\n",
    "pprint.pprint(spam)"
   ]
  },
  {
   "cell_type": "code",
   "execution_count": null,
   "id": "f0d589c0",
   "metadata": {},
   "outputs": [],
   "source": []
  },
  {
   "cell_type": "code",
   "execution_count": null,
   "id": "635fa8e7",
   "metadata": {},
   "outputs": [],
   "source": []
  }
 ],
 "metadata": {
  "kernelspec": {
   "display_name": "Python 3 (ipykernel)",
   "language": "python",
   "name": "python3"
  },
  "language_info": {
   "codemirror_mode": {
    "name": "ipython",
    "version": 3
   },
   "file_extension": ".py",
   "mimetype": "text/x-python",
   "name": "python",
   "nbconvert_exporter": "python",
   "pygments_lexer": "ipython3",
   "version": "3.9.7"
  }
 },
 "nbformat": 4,
 "nbformat_minor": 5
}
